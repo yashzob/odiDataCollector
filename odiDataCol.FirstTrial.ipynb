{
 "cells": [
  {
   "cell_type": "code",
   "execution_count": 24,
   "id": "0ce14e55-2b81-4076-a3eb-62f453fc84a2",
   "metadata": {},
   "outputs": [
    {
     "name": "stdout",
     "output_type": "stream",
     "text": [
      "driver loaded\n"
     ]
    },
    {
     "name": "stderr",
     "output_type": "stream",
     "text": [
      "/tmp/ipykernel_8716/2010991799.py:12: DeprecationWarning: executable_path has been deprecated, please pass in a Service object\n",
      "  driver = webdriver.Chrome(executable_path='/home/yash/Downloads/chromedriver-linux64/chromedriver')\n"
     ]
    },
    {
     "name": "stdout",
     "output_type": "stream",
     "text": [
      "page to be open\n",
      "hello\n"
     ]
    },
    {
     "name": "stderr",
     "output_type": "stream",
     "text": [
      "/tmp/ipykernel_8716/2010991799.py:24: DeprecationWarning: find_element_by_* commands are deprecated. Please use find_element() instead\n",
      "  driver.find_element_by_tag_name('body').send_keys(Keys.ESCAPE)\n",
      "/tmp/ipykernel_8716/2010991799.py:25: DeprecationWarning: find_element_by_* commands are deprecated. Please use find_element() instead\n",
      "  driver.find_element_by_tag_name('body').send_keys(Keys.ESCAPE)\n"
     ]
    },
    {
     "name": "stdout",
     "output_type": "stream",
     "text": [
      "escape key\n",
      "waiting button \n"
     ]
    }
   ],
   "source": [
    "from selenium import webdriver\n",
    "from bs4 import BeautifulSoup\n",
    "import time\n",
    "from selenium.webdriver.common.by import By\n",
    "from selenium.webdriver.common.keys import Keys\n",
    "print(\"driver loaded\")\n",
    "URL = \"https://www.espncricinfo.com/records/year/team-match-results/2020-2020/one-day-internationals-2\"\n",
    "\n",
    "# Set up the Selenium driver (point it to the location of your ChromeDriver if it's not in your PATH)\n",
    "\n",
    "\n",
    "driver = webdriver.Chrome(executable_path='/home/yash/Downloads/chromedriver-linux64/chromedriver')\n",
    "\n",
    "print(\"page to be open\")\n",
    "# Open the URL\n",
    "driver.get(URL)\n",
    "print(\"hello\")\n",
    "# Wait for the content to load (you might need to adjust the time)\n",
    "time.sleep(5)  # wait for 5 seconds\n",
    "\n",
    "\n",
    "# Wait for the content to load (you might need to adjust the time)\n",
    "#time.sleep(10)  # wait for 5 seconds\n",
    "driver.find_element_by_tag_name('body').send_keys(Keys.ESCAPE)\n",
    "driver.find_element_by_tag_name('body').send_keys(Keys.ESCAPE)\n",
    "print(\"escape key\")\n",
    "# # Get the page source after all scripts have been executed\n",
    "page_source = driver.page_source\n",
    "time.sleep(1) \n",
    "# soup = BeautifulSoup(page_source, 'html.parser')\n",
    "# time.sleep(10) \n",
    "# # print(soup)\n",
    "# # Find the desired element using its XPath and click on it.\n",
    "print(\"waiting button \")"
   ]
  },
  {
   "cell_type": "code",
   "execution_count": 25,
   "id": "e1a9aed9-2bdd-415b-853f-339c0c685b11",
   "metadata": {},
   "outputs": [],
   "source": [
    "\n",
    "from selenium.webdriver.common.by import By\n",
    "from selenium.webdriver.support.ui import WebDriverWait\n",
    "from selenium.webdriver.support import expected_conditions as EC\n",
    "\n",
    "try:\n",
    "    button = WebDriverWait(driver, 10).until(\n",
    "        EC.presence_of_element_located((By.XPATH, '//*[@id=\"wzrk-cancel\"]'))\n",
    "    )\n",
    "    button.click()\n",
    "except:\n",
    "    print(\"Element not found or another issue occurred.\")\n"
   ]
  },
  {
   "cell_type": "markdown",
   "id": "94de74e8-cafe-494d-a92b-d43024116545",
   "metadata": {},
   "source": []
  },
  {
   "cell_type": "code",
   "execution_count": 26,
   "id": "46635aa8-107b-4711-a57c-6523995b4c41",
   "metadata": {},
   "outputs": [
    {
     "name": "stderr",
     "output_type": "stream",
     "text": [
      "/tmp/ipykernel_8716/4261249119.py:1: DeprecationWarning: find_elements_by_* commands are deprecated. Please use find_elements() instead\n",
      "  links = driver.find_elements_by_xpath('//*[@id=\"main-container\"]/div[3]/div[2]/div/div[1]/div[3]/table/tbody/tr/td[7]/span/a')\n"
     ]
    }
   ],
   "source": [
    "links = driver.find_elements_by_xpath('//*[@id=\"main-container\"]/div[3]/div[2]/div/div[1]/div[3]/table/tbody/tr/td[7]/span/a')\n",
    "\n",
    "# Store the link hrefs in a list\n",
    "hrefs = [link.get_attribute('href') for link in links]\n",
    "hrefs = [href.replace(\"full-scorecard\", \"ball-by-ball-commentary\") for href in hrefs]\n",
    "# Close the driver\n",
    "\n"
   ]
  },
  {
   "cell_type": "code",
   "execution_count": null,
   "id": "8c2eba4d-6f62-4cce-b5d2-c94c741cb548",
   "metadata": {},
   "outputs": [],
   "source": []
  },
  {
   "cell_type": "code",
   "execution_count": 27,
   "id": "d2355dde-a987-47ee-b212-a0fd4a981c78",
   "metadata": {},
   "outputs": [
    {
     "name": "stdout",
     "output_type": "stream",
     "text": [
      "36.3\n",
      "4\n",
      "Basil Hameed to Nadeem, FOUR runs\n",
      "225\n",
      "Al Amerat\n"
     ]
    }
   ],
   "source": [
    "from selenium import webdriver\n",
    "from selenium.webdriver.common.by import By\n",
    "from selenium.webdriver.common.keys import Keys\n",
    "import time\n",
    "\n",
    "# Initialize the Selenium WebDriver (e.g., for Chrome)\n",
    "# driver = webdriver.Chrome()\n",
    "driver.get(hrefs[0])\n",
    "element_xpath = '//*[@id=\"main-container\"]/div[3]/div/div/div[2]/div[4]/div[1]/div[2]/div/div[1]/div[7]/div[1]/div/div[2]/div[1]/span'\n",
    "span_element = driver.find_element(By.XPATH, element_xpath)\n",
    "\n",
    "# Extracting the content \"6.4\"\n",
    "overs = span_element.text\n",
    "print(overs) \n",
    "\n",
    "element_xpath = '//*[@id=\"main-container\"]/div[3]/div/div/div[2]/div[4]/div[1]/div[2]/div/div[1]/div[7]/div[1]/div/div[2]/div[1]/div/div/span'\n",
    "span_element = driver.find_element(By.XPATH, element_xpath)\n",
    "\n",
    "# Extracting the content \"6.4\"\n",
    "runs = span_element.text\n",
    "print(runs)\n",
    "\n",
    "element_xpath='//*[@id=\"main-container\"]/div[3]/div/div/div[2]/div[4]/div[1]/div[2]/div/div[1]/div[7]/div[1]/div/div[2]/div[2]/div/div/div/span'\n",
    "span_element = driver.find_element(By.XPATH, element_xpath)\n",
    "\n",
    "# Extracting the content \"6.4\"\n",
    "bowler = span_element.text\n",
    "print(bowler)\n",
    "\n",
    "\n",
    "\n",
    "element_xpath='//*[@id=\"main-container\"]/div[3]/div/div/div[1]/div[2]/div[2]/div/div[1]/div/div/div/div/div[2]/div/div[2]/div[2]/span'\n",
    "span_element = driver.find_element(By.XPATH, element_xpath)\n",
    "\n",
    "# Extracting the content \"6.4\"\n",
    "# Extracting the content \"6.4\"\n",
    "over_played = span_element.text\n",
    "o,T=over_played[1:5],over_played[-4:-1]\n",
    "over,ball=o.split(\".\")\n",
    "balls=int(over)*6+int(ball)\n",
    "print(balls)\n",
    "element_xpath='//*[@id=\"main-container\"]/div[3]/div/div/div[1]/div[2]/div[2]/div/div[1]/div/div/div/div/div[1]/div[1]/span[2]'\n",
    "span_element = driver.find_element(By.XPATH, element_xpath)\n",
    "\n",
    "# Extracting the content \"6.4\"\n",
    "stadium = span_element.text\n",
    "parts = stadium.split(', ')\n",
    "location = parts[1]\n",
    "print(location)"
   ]
  },
  {
   "cell_type": "code",
   "execution_count": null,
   "id": "728fac69-eaa5-4bbd-8dcd-ac2672106fe9",
   "metadata": {},
   "outputs": [],
   "source": []
  },
  {
   "cell_type": "code",
   "execution_count": 28,
   "id": "3254fa1e-1b02-4adb-9f91-161497f7393e",
   "metadata": {},
   "outputs": [
    {
     "name": "stdout",
     "output_type": "stream",
     "text": [
      "37.3\n",
      "225\n"
     ]
    }
   ],
   "source": [
    "# Extracting the content \"6.4\"\n",
    "\n",
    "o,T=over_played[1:5],over_played[-4:-1]\n",
    "print(o)\n",
    "over,ball=o.split(\".\")\n",
    "balls=int(over)*6+int(ball)\n",
    "print(balls)"
   ]
  },
  {
   "cell_type": "code",
   "execution_count": null,
   "id": "c06ed95c-5b0d-4ade-9e0d-50b665524b94",
   "metadata": {},
   "outputs": [],
   "source": []
  },
  {
   "cell_type": "code",
   "execution_count": null,
   "id": "b3d3d293-33a6-4019-8134-af62e115f90b",
   "metadata": {},
   "outputs": [],
   "source": []
  },
  {
   "cell_type": "code",
   "execution_count": 29,
   "id": "5cb589e3-cd0d-4220-a675-9c7bcfe1ef71",
   "metadata": {},
   "outputs": [],
   "source": [
    "def selectInng(inng,driver,i):\n",
    "    time.sleep(10)\n",
    "    driver.get(hrefs[i-1])\n",
    "    dropdown = driver.find_element(By.XPATH, '//*[@id=\"main-container\"]/div[3]/div/div/div[2]/div[4]/div[1]/div[1]/div/div[2]/div/div')\n",
    "    dropdown.click()\n",
    "    \n",
    "    # Wait for the dropdown options to be visible\n",
    "    wait = WebDriverWait(driver, 15)\n",
    "    inng=1\n",
    "    # Determine which option to click based on the value of inng\n",
    "    if inng == 1:\n",
    "        xpath_value = '//*[@id=\"tippy-1\"]/div/div/div/div/div/ul/li[1]/div/span'\n",
    "    else:\n",
    "        xpath_value = '//*[@id=\"tippy-1\"]/div/div/div/div/div/ul/li[2]/div/span'\n",
    "    \n",
    "    span_element = driver.find_element(By.XPATH, xpath_value)\n",
    "    print(span_element.text)\n",
    "    \n",
    "    \n",
    "    \n",
    "    # Wait until the desired option is visible and then click\n",
    "    option_to_click = wait.until(EC.visibility_of_element_located((By.XPATH, xpath_value)))\n",
    "    option_to_click.click()"
   ]
  },
  {
   "cell_type": "code",
   "execution_count": 30,
   "id": "7079a279-42b7-46f6-9db4-f122bae1f9be",
   "metadata": {},
   "outputs": [],
   "source": [
    "def scrolling():\n",
    "    \n",
    "    \n",
    "    # Scroll the page 51 times\n",
    "    for i in range(51):\n",
    "        time.sleep(2)\n",
    "        driver.find_element(By.TAG_NAME, 'body').send_keys(Keys.PAGE_DOWN)\n"
   ]
  },
  {
   "cell_type": "code",
   "execution_count": 31,
   "id": "b0ae252f-5f23-4956-ac95-8d50e50c2a1a",
   "metadata": {},
   "outputs": [],
   "source": [
    "# 'match_id', 'city', 'winner', 'total_runs_x', 'inning', 'batting_team',\n",
    "#        'bowling_team', 'over', 'ball', 'batsman',  'bowler',\n",
    "#         'batsman_runs', 'extra_runs', 'total_runs_y',\n",
    "#        'player_dismissed', "
   ]
  },
  {
   "cell_type": "code",
   "execution_count": 32,
   "id": "e6f8f8eb-9e11-4cd5-94d2-4fd4ffe44386",
   "metadata": {},
   "outputs": [],
   "source": [
    "import pandas as pd\n",
    "def inngData(inng):\n",
    "    overs_list = []\n",
    "    runs_list = []\n",
    "    bowler_list = []\n",
    "    \n",
    "    i=1\n",
    "    element_xpath = f'//*[@id=\"main-container\"]/div[3]/div/div/div[2]/div[4]/div[1]/div[2]/div/div[1]/div[{i}]/div[1]/div/div[2]/div[1]/span'\n",
    "        \n",
    "    span_element = driver.find_element(By.XPATH, element_xpath)\n",
    "    \n",
    "    element_xpath='//*[@id=\"main-container\"]/div[3]/div/div/div[1]/div[2]/div[2]/div/div[1]/div/div/div/div/div[2]/div/div[1]/div[2]/strong'\n",
    "    span_element = driver.find_element(By.XPATH, element_xpath)\n",
    "    target=span_element.text\n",
    "    \n",
    "    element_xpath='//*[@id=\"main-container\"]/div[3]/div/div/div[1]/div[2]/div[2]/div/div[1]/div/div/div/div/p/span'\n",
    "    span_element = driver.find_element(By.XPATH, element_xpath)\n",
    "    stadium=span_element.text\n",
    "    \n",
    "    parts = stadium.split(', ')\n",
    "    location = parts[1]\n",
    "    print(location)\n",
    "    \n",
    "    \n",
    "    \n",
    "    \n",
    "    while(span_element.text!=\"0.1\"):\n",
    "        \n",
    "        \n",
    "        element_xpath = f'//*[@id=\"main-container\"]/div[3]/div/div/div[2]/div[4]/div[1]/div[2]/div/div[1]/div[{i}]/div[1]/div/div[2]/div[1]/div/div/span'\n",
    "        span_element = driver.find_element(By.XPATH, element_xpath)\n",
    "        runs_list.append(span_element.text)\n",
    "        \n",
    "        element_xpath = f'//*[@id=\"main-container\"]/div[3]/div/div/div[2]/div[4]/div[1]/div[2]/div/div[1]/div[{i}]/div[1]/div/div[2]/div[2]/div/div/div/span'\n",
    "        span_element = driver.find_element(By.XPATH, element_xpath)\n",
    "        bowler_list.append(span_element.text)\n",
    "        element_xpath = f'//*[@id=\"main-container\"]/div[3]/div/div/div[2]/div[4]/div[1]/div[2]/div/div[1]/div[{i}]/div[1]/div/div[2]/div[1]/span'\n",
    "        \n",
    "        span_element = driver.find_element(By.XPATH, element_xpath)\n",
    "        #print(span_element.text)\n",
    "        overs_list.append(span_element.text)\n",
    "        i=i+1\n",
    "\n",
    "    df = pd.DataFrame({\n",
    "            'overs': overs_list,\n",
    "            'runs': runs_list,\n",
    "            'bowler': bowler_list,\n",
    "            'target':target+1,\n",
    "            'stadium':location,\n",
    "            'inning':inng\n",
    "    })\n",
    "    print(df)\n",
    "    return df\n",
    "\n",
    "\n",
    "\n"
   ]
  },
  {
   "cell_type": "code",
   "execution_count": 33,
   "id": "762b2884-06c8-4f2f-918a-6188622372ff",
   "metadata": {},
   "outputs": [],
   "source": [
    "#df.to_csv('cricket.csv', index=False)\n"
   ]
  },
  {
   "cell_type": "code",
   "execution_count": null,
   "id": "eb63a122-0e03-4eb5-b7b0-53d56a0f75f6",
   "metadata": {},
   "outputs": [],
   "source": [
    "df = pd.DataFrame()\n",
    "\n",
    "for i in range(1,len(hrefs)):\n",
    "    for inng in range(1,3):\n",
    "        driver.get(hrefs[i])\n",
    "        time.sleep(10)\n",
    "        selectInng(inng,driver,i)\n",
    "        scrolling()\n",
    "        df=inngData(inng)\n",
    "        current_df = inngData(inng)\n",
    "        \n",
    "        # Append this data to the main dataframe\n",
    "        df = pd.concat([df, current_df], ignore_index=True)\n",
    "\n",
    "        "
   ]
  },
  {
   "cell_type": "code",
   "execution_count": null,
   "id": "21b13e92-3273-4584-9a94-0011cd5ec43f",
   "metadata": {},
   "outputs": [],
   "source": []
  }
 ],
 "metadata": {
  "kernelspec": {
   "display_name": "Python 3 (ipykernel)",
   "language": "python",
   "name": "python3"
  },
  "language_info": {
   "codemirror_mode": {
    "name": "ipython",
    "version": 3
   },
   "file_extension": ".py",
   "mimetype": "text/x-python",
   "name": "python",
   "nbconvert_exporter": "python",
   "pygments_lexer": "ipython3",
   "version": "3.10.12"
  }
 },
 "nbformat": 4,
 "nbformat_minor": 5
}
